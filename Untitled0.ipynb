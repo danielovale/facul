{
  "nbformat": 4,
  "nbformat_minor": 0,
  "metadata": {
    "colab": {
      "provenance": []
    },
    "kernelspec": {
      "name": "python3",
      "display_name": "Python 3"
    },
    "language_info": {
      "name": "python"
    }
  },
  "cells": [
    {
      "cell_type": "code",
      "source": [
        "# prompt: calcular imc\n",
        "\n",
        "def calcular_imc(peso, altura):\n",
        "  \"\"\"\n",
        "  Calcula o Índice de Massa Corporal (IMC).\n",
        "\n",
        "  Args:\n",
        "    peso: Peso em quilogramas.\n",
        "    altura: Altura em metros.\n",
        "\n",
        "  Returns:\n",
        "    O valor do IMC.\n",
        "  \"\"\"\n",
        "  imc = peso / (altura ** 2)\n",
        "  return imc\n",
        "\n",
        "# Exemplo de uso:\n",
        "peso = 96  # Peso em kg\n",
        "altura = 1.75  # Altura em metros\n",
        "imc = calcular_imc(peso, altura)\n",
        "print(\"Seu IMC é:\", imc)\n"
      ],
      "metadata": {
        "colab": {
          "base_uri": "https://localhost:8080/"
        },
        "id": "bPuTdqtCZjTs",
        "outputId": "52412812-d2e4-40b0-acfc-51a0be508c2e"
      },
      "execution_count": null,
      "outputs": [
        {
          "output_type": "stream",
          "name": "stdout",
          "text": [
            "Seu IMC é: 31.346938775510203\n"
          ]
        }
      ]
    },
    {
      "cell_type": "markdown",
      "source": [
        "# Nova seção"
      ],
      "metadata": {
        "id": "5E9o78qvceM7"
      }
    },
    {
      "cell_type": "code",
      "source": [
        "altura= float(input( 'digite a altura'))\n",
        "peso= float(input( 'digite o peso'))\n",
        "imc= peso/(altura*altura)\n",
        "print(imc)\n",
        "if imc <=16.9:\n",
        "  print('muito abaixo do peso')\n",
        "elif imc <=18.4:\n",
        "    print('abaixo do peso')\n",
        "elif imc <=24.9:\n",
        "    print('peso normal')\n",
        "elif imc <=29.9:\n",
        "    print('acima do peso')\n",
        "elif imc <=34.9:\n",
        "    print('obesidade grau 1')\n",
        "elif imc <=39.9:\n",
        "    print('obesidade grau 2')\n",
        "else:\n",
        "    print('obesidade grau 3')\n",
        "\n",
        "\n",
        "\n"
      ],
      "metadata": {
        "colab": {
          "base_uri": "https://localhost:8080/"
        },
        "id": "r05iLBZjdsIB",
        "outputId": "33c67f75-85dc-4294-db35-6297a10cbe6d"
      },
      "execution_count": null,
      "outputs": [
        {
          "output_type": "stream",
          "name": "stdout",
          "text": [
            "digite a altura1.75\n",
            "digite o peso90\n",
            "29.387755102040817\n",
            "acima do peso\n"
          ]
        }
      ]
    },
    {
      "cell_type": "code",
      "source": [
        "print (\"ola, Mundo\")\n"
      ],
      "metadata": {
        "colab": {
          "base_uri": "https://localhost:8080/"
        },
        "id": "povXmDiNbJXe",
        "outputId": "3d8a03b6-6aee-45f7-94ff-8afec29379fb"
      },
      "execution_count": null,
      "outputs": [
        {
          "output_type": "stream",
          "name": "stdout",
          "text": [
            "ola, Mundo\n"
          ]
        }
      ]
    },
    {
      "cell_type": "code",
      "source": [
        "n1= 5\n",
        "n2= 5\n",
        "soma= n1+n2\n",
        "print(soma)\n"
      ],
      "metadata": {
        "colab": {
          "base_uri": "https://localhost:8080/"
        },
        "id": "Zq0hCmtEbwMS",
        "outputId": "df2498fc-c35f-49b4-9820-f73d9aa18cb3"
      },
      "execution_count": null,
      "outputs": [
        {
          "output_type": "stream",
          "name": "stdout",
          "text": [
            "10\n"
          ]
        }
      ]
    },
    {
      "cell_type": "code",
      "source": [
        "n1= int(input(\"digite n1\"))\n",
        "n2= int(input(\"digite n2\"))\n",
        "soma= n1+n2\n",
        "print(soma)\n"
      ],
      "metadata": {
        "colab": {
          "base_uri": "https://localhost:8080/"
        },
        "id": "ij3WkR65d1-D",
        "outputId": "53d45ae3-c1ea-474c-93ce-f0153e64797d"
      },
      "execution_count": null,
      "outputs": [
        {
          "output_type": "stream",
          "name": "stdout",
          "text": [
            "digite n1 10\n",
            "digite n2 20\n",
            "30\n"
          ]
        }
      ]
    },
    {
      "cell_type": "code",
      "source": [
        "numero= int(input(\"digite o numero\"))\n",
        "sucessor= numero+1\n",
        "print(sucessor)\n"
      ],
      "metadata": {
        "colab": {
          "base_uri": "https://localhost:8080/"
        },
        "id": "9f6ryySNfC6I",
        "outputId": "fbea7385-026a-49bb-c10e-095852bc8d43"
      },
      "execution_count": null,
      "outputs": [
        {
          "output_type": "stream",
          "name": "stdout",
          "text": [
            "digite o numero 15\n",
            "16\n"
          ]
        }
      ]
    },
    {
      "cell_type": "code",
      "source": [
        "lista =int(input(\"inf lista\"))\n",
        "prova = int(input(\"inf prova\"))\n",
        "media = lista * 0.20 + prova * 0.80\n",
        "print(media)\n",
        "\n"
      ],
      "metadata": {
        "colab": {
          "base_uri": "https://localhost:8080/"
        },
        "id": "5f-_L8X8hnuW",
        "outputId": "2bc22344-2863-4452-da11-6a1043a4fbc7"
      },
      "execution_count": null,
      "outputs": [
        {
          "output_type": "stream",
          "name": "stdout",
          "text": [
            "inf lista14\n",
            "inf prova10\n",
            "10.8\n"
          ]
        }
      ]
    },
    {
      "cell_type": "code",
      "source": [
        "Calcular a quantidade de dinheiro gasta por um fumante. Dados: o número de anos que\n",
        "ele fuma, o nº de cigarros fumados por dia e o preço de uma carteira (20 cigarros)\n"
      ],
      "metadata": {
        "id": "a7ztMlxklmmi"
      },
      "execution_count": null,
      "outputs": []
    },
    {
      "cell_type": "markdown",
      "source": [
        "Calcular a quantidade de dinheiro gasta por um fumante. Dados: o número de anos que\n",
        "ele fuma, o nº de cigarros fumados por dia e o preço de uma carteira (20 cigarros)"
      ],
      "metadata": {
        "id": "ItPXJWaAloec"
      }
    },
    {
      "cell_type": "code",
      "source": [
        "# prompt: Calcular a quantidade de dinheiro gasta por um fumante. Dados: o número de anos que\n",
        "# ele fuma, o nº de cigarros fumados por dia e o preço de uma carteira (20 cigarros)\n",
        "\n",
        "anos_fumando = float(input(\"Digite o número de anos que você fuma: \"))\n",
        "cigarros_por_dia = float(input(\"Digite o número de cigarros fumados por dia: \"))\n",
        "preco_carteira = float(input(\"Digite o preço de uma carteira de cigarros: \"))\n",
        "\n",
        "# Calcula o total de cigarros fumados\n",
        "total_cigarros = anos_fumando * 365 * cigarros_por_dia\n",
        "\n",
        "# Calcula o número de carteiras\n",
        "total_carteiras = total_cigarros / 20\n",
        "\n",
        "# Calcula o custo total\n",
        "custo_total = total_carteiras * preco_carteira\n",
        "\n",
        "print(f\"O custo total gasto com cigarros é: R$ {custo_total:.2f}\")\n"
      ],
      "metadata": {
        "colab": {
          "base_uri": "https://localhost:8080/"
        },
        "id": "8ADI-gi0lqcj",
        "outputId": "b042d0b3-f6e8-41f3-f2c7-2173aaf2d32f"
      },
      "execution_count": null,
      "outputs": [
        {
          "output_type": "stream",
          "name": "stdout",
          "text": [
            "Digite o número de anos que você fuma: 5\n",
            "Digite o número de cigarros fumados por dia: 3\n",
            "Digite o preço de uma carteira de cigarros: 5\n",
            "O custo total gasto com cigarros é: R$ 1368.75\n"
          ]
        }
      ]
    },
    {
      "cell_type": "code",
      "source": [
        "numeros de anos = float(input(\"digite a quantidade de anos\"))\n",
        "quantos cigaros por dia = float(input(\"digite a quantidade de cigarros\"))\n",
        "preço do cigaro = float(input(\"digite o preço\"))\n",
        "\n",
        "anos fumado = numero de anos*365\n",
        "cigarros por dia =quantos cigaros por dia\n",
        "preço do cigaro = preço do cigaro\n",
        "\n",
        "print=numeros de anos*365*quantos cigaros por dia*preço do cigaro\n"
      ],
      "metadata": {
        "colab": {
          "base_uri": "https://localhost:8080/",
          "height": 106
        },
        "id": "NYGxRdGbnu4y",
        "outputId": "0501716e-7b31-4414-8d63-d135621929f6"
      },
      "execution_count": null,
      "outputs": [
        {
          "output_type": "error",
          "ename": "SyntaxError",
          "evalue": "invalid syntax (<ipython-input-18-fd32ce1c170d>, line 1)",
          "traceback": [
            "\u001b[0;36m  File \u001b[0;32m\"<ipython-input-18-fd32ce1c170d>\"\u001b[0;36m, line \u001b[0;32m1\u001b[0m\n\u001b[0;31m    numeros de anos = float(input(\"digite a quantidade de anos\"))\u001b[0m\n\u001b[0m            ^\u001b[0m\n\u001b[0;31mSyntaxError\u001b[0m\u001b[0;31m:\u001b[0m invalid syntax\n"
          ]
        }
      ]
    },
    {
      "cell_type": "code",
      "source": [
        "\n",
        "numeros_de_anos = float(input(\"digite a quantidade de anos\"))\n",
        "quantos_cigaros_por_dia = float(input(\"digite a quantidade de cigarros\"))\n",
        "preço_do_cigaro = float(input(\"digite o preço\"))\n",
        "anos_fumado = numeros_de_anos*365\n",
        "cigarros_por_dia =((quantos_cigaros_por_dia)/20)\n",
        "print(anos_fumado*quantos_cigaros_por_dia*preço_do_cigaro)\n",
        "\n",
        "\n"
      ],
      "metadata": {
        "colab": {
          "base_uri": "https://localhost:8080/"
        },
        "id": "Iy60dYiBqdBH",
        "outputId": "14653aee-39fa-42b0-986c-22c928c85d12"
      },
      "execution_count": null,
      "outputs": [
        {
          "output_type": "stream",
          "name": "stdout",
          "text": [
            "digite a quantidade de anos3\n",
            "digite a quantidade de cigarros3\n",
            "digite o preço10\n",
            "32850.0\n"
          ]
        }
      ]
    },
    {
      "cell_type": "code",
      "source": [
        "idade= int(input(\"digite a idade\"))\n",
        "if idade>=18:\n",
        "  print (\"maior de idade\")\n",
        "else:\n",
        "  print (\"menor de idade\")\n"
      ],
      "metadata": {
        "colab": {
          "base_uri": "https://localhost:8080/"
        },
        "id": "9he19xaiZICH",
        "outputId": "f0eea3a7-9aff-45cb-a4e3-89ee51cde4d6"
      },
      "execution_count": null,
      "outputs": [
        {
          "output_type": "stream",
          "name": "stdout",
          "text": [
            "digite a idade25\n",
            "digite a idade25\n",
            "maior de idade\n"
          ]
        }
      ]
    },
    {
      "cell_type": "code",
      "source": [
        "nota= float(input(\"digite a nota\"))\n",
        "if nota>= 75:\n",
        "  print(\"aprovado com distinçao\")\n",
        "elif nota>=60:\n",
        "  print(\"aprovado\")\n",
        "else:\n",
        "  print(\"reprovado\")\n"
      ],
      "metadata": {
        "colab": {
          "base_uri": "https://localhost:8080/"
        },
        "id": "tIBjT4dPcs-r",
        "outputId": "fd5e6bbf-e042-4366-dcc4-12723c974d03"
      },
      "execution_count": null,
      "outputs": [
        {
          "output_type": "stream",
          "name": "stdout",
          "text": [
            "digite a nota90\n",
            "aprovado com distinçao\n"
          ]
        }
      ]
    },
    {
      "cell_type": "code",
      "source": [
        "for i in range(10):\n",
        " print(i)"
      ],
      "metadata": {
        "colab": {
          "base_uri": "https://localhost:8080/"
        },
        "id": "COvLDhUtfznv",
        "outputId": "406255e6-7f4c-4fa7-807f-ec8de8c6ac04"
      },
      "execution_count": null,
      "outputs": [
        {
          "output_type": "stream",
          "name": "stdout",
          "text": [
            "0\n",
            "1\n",
            "2\n",
            "3\n",
            "4\n",
            "5\n",
            "6\n",
            "7\n",
            "8\n",
            "9\n"
          ]
        }
      ]
    },
    {
      "cell_type": "code",
      "source": [
        "contador=0\n",
        "while contador<5:\n",
        "  print(contador)\n",
        "  contador+=1"
      ],
      "metadata": {
        "colab": {
          "base_uri": "https://localhost:8080/"
        },
        "id": "Nx11gjsJgcB0",
        "outputId": "50015944-c7fe-4fe7-f221-0cc4bf8ef11a"
      },
      "execution_count": null,
      "outputs": [
        {
          "output_type": "stream",
          "name": "stdout",
          "text": [
            "0\n",
            "1\n",
            "2\n",
            "3\n",
            "4\n"
          ]
        }
      ]
    },
    {
      "cell_type": "code",
      "source": [
        "valor_do_carro= float(input(\"digite o valor do carro\"))\n",
        "valor_do_imposto= float(input(\"digite o valor do imposto em %\"))\n",
        "valor_do_lucro= float(input(\"digite o valor do lucro em %\"))\n",
        "valor=(valor_do_carro*valor_do_imposto/100)\n",
        "print(valor_do_imposto)"
      ],
      "metadata": {
        "colab": {
          "base_uri": "https://localhost:8080/"
        },
        "id": "htA0Dvv2hKDK",
        "outputId": "dcb5bb6d-b9ac-4603-f6be-b46a47b00dc6"
      },
      "execution_count": null,
      "outputs": [
        {
          "output_type": "stream",
          "name": "stdout",
          "text": [
            "digite o valor do carro45000\n",
            "digite o valor do imposto em %45.0\n",
            "digite o valor do lucro em %12.0\n",
            "45.0\n"
          ]
        }
      ]
    },
    {
      "cell_type": "code",
      "source": [],
      "metadata": {
        "id": "IU6r1ZSLqXrF"
      },
      "execution_count": null,
      "outputs": []
    },
    {
      "cell_type": "code",
      "source": [
        "# prompt: Que gere o preço de um carro ao consumidor e os valores pagos pelo imposto e pelo\n",
        "# lucro do distribuidor, sabendo o custo de fábrica do carro e que são pagos: a) de imposto:\n",
        "# 45% sobre o custo do carro; b) de lucro do distribuidor: 12% sobre o custo do carro\n",
        "\n",
        "custo_fabrica = float(input(\"Digite o custo de fábrica do carro: \"))\n",
        "\n",
        "imposto = custo_fabrica * 0.45\n",
        "lucro_distribuidor = custo_fabrica * 0.12\n",
        "\n",
        "preco_consumidor = custo_fabrica + imposto + lucro_distribuidor\n",
        "\n",
        "print(\"Preço ao consumidor:\", preco_consumidor)\n",
        "print(\"Valor do imposto:\", imposto)\n",
        "print(\"Valor do lucro do distribuidor:\", lucro_distribuidor)\n"
      ],
      "metadata": {
        "id": "qfH3-Q8lm5Yq"
      },
      "execution_count": null,
      "outputs": []
    },
    {
      "cell_type": "code",
      "source": [
        "altura=[1.80,1.44,1.78,1.90 ]\n",
        "print(altura[2])"
      ],
      "metadata": {
        "colab": {
          "base_uri": "https://localhost:8080/"
        },
        "id": "DOFK_iHxfBNa",
        "outputId": "52b21b85-2b57-44c6-e046-51debef93831"
      },
      "execution_count": 3,
      "outputs": [
        {
          "output_type": "stream",
          "name": "stdout",
          "text": [
            "1.78\n"
          ]
        }
      ]
    },
    {
      "cell_type": "code",
      "source": [
        "import numpy as np\n",
        "array= np.arange(1,50)\n",
        "arr_somado= array+10\n",
        "print(arr_somado)\n"
      ],
      "metadata": {
        "colab": {
          "base_uri": "https://localhost:8080/"
        },
        "id": "7-ivgaPghEOj",
        "outputId": "2a36cda5-a7bd-4f1f-a19b-997b4769654d"
      },
      "execution_count": 19,
      "outputs": [
        {
          "output_type": "stream",
          "name": "stdout",
          "text": [
            "[11 12 13 14 15 16 17 18 19 20 21 22 23 24 25 26 27 28 29 30 31 32 33 34\n",
            " 35 36 37 38 39 40 41 42 43 44 45 46 47 48 49 50 51 52 53 54 55 56 57 58\n",
            " 59]\n"
          ]
        }
      ]
    },
    {
      "cell_type": "code",
      "source": [
        "# prompt: Crie um array com 20 n´umeros aleat´orios inteiros entre 1 e 100 e imprima:\n",
        "# • O valor m´aximo.\n",
        "# • O valor m´ınimo.\n",
        "# • A m´edia dos valores\n",
        "\n",
        "import numpy as np\n",
        "\n",
        "# Crie um array com 20 números aleatórios inteiros entre 1 e 100\n",
        "array_aleatorio = np.random.randint(1, 101, size=20)\n",
        "\n",
        "# Imprima o valor máximo\n",
        "print(\"Valor máximo:\", np.max(array_aleatorio))\n",
        "\n",
        "# Imprima o valor mínimo\n",
        "print(\"Valor mínimo:\", np.min(array_aleatorio))\n",
        "\n",
        "# Imprima a média dos valores\n",
        "print(\"Média dos valores:\", np.mean(array_aleatorio))\n"
      ],
      "metadata": {
        "colab": {
          "base_uri": "https://localhost:8080/"
        },
        "id": "gjqYaydFkppd",
        "outputId": "5acfc3c5-5d1e-46de-d3b2-73d14d513556"
      },
      "execution_count": 20,
      "outputs": [
        {
          "output_type": "stream",
          "name": "stdout",
          "text": [
            "Valor máximo: 100\n",
            "Valor mínimo: 3\n",
            "Média dos valores: 54.45\n"
          ]
        }
      ]
    },
    {
      "cell_type": "code",
      "source": [
        "dados = np.array([10, 20, 30, 40, 50])\n",
        "print(np.mean(dados)) # M´edia\n",
        "print(np.median(dados)) # Mediana\n",
        "print(np.std(dados)) # Desvio Padr~ao\n",
        "print(np.sum(dados)) # Soma"
      ],
      "metadata": {
        "colab": {
          "base_uri": "https://localhost:8080/"
        },
        "id": "lalt867SmKK-",
        "outputId": "c6568044-cf8d-48b6-cde0-a66450415c23"
      },
      "execution_count": 21,
      "outputs": [
        {
          "output_type": "stream",
          "name": "stdout",
          "text": [
            "30.0\n",
            "30.0\n",
            "14.142135623730951\n",
            "150\n"
          ]
        }
      ]
    },
    {
      "cell_type": "code",
      "source": [
        "arr = np.array([10, 20, 30, 40, 50])\n",
        "# Acessar o segundo elemento\n",
        "print(arr[1])\n",
        "# Fatiar os tr^es primeiros elementos\n",
        "print(arr[:5])"
      ],
      "metadata": {
        "colab": {
          "base_uri": "https://localhost:8080/"
        },
        "id": "CaJSaoiOmcwt",
        "outputId": "565aabc2-b000-4d05-dca0-24452ea5c63f"
      },
      "execution_count": 23,
      "outputs": [
        {
          "output_type": "stream",
          "name": "stdout",
          "text": [
            "20\n",
            "[10 20 30 40 50]\n"
          ]
        }
      ]
    },
    {
      "cell_type": "code",
      "source": [
        "matriz = np.array([[1, 2, 3], [4, 5, 6], [7, 8, 9]])\n",
        "# Acessar o elemento da segunda linha, terceira coluna\n",
        "print(matriz[1, 2])\n",
        "# Acessar a primeira coluna de todas as linhas\n",
        "print(matriz[:, 0])"
      ],
      "metadata": {
        "colab": {
          "base_uri": "https://localhost:8080/"
        },
        "id": "YMC3qjaQmvXJ",
        "outputId": "5e57b59e-4958-4067-c8b5-db1d06503200"
      },
      "execution_count": 24,
      "outputs": [
        {
          "output_type": "stream",
          "name": "stdout",
          "text": [
            "6\n",
            "[1 4 7]\n"
          ]
        }
      ]
    },
    {
      "cell_type": "code",
      "source": [
        "arr = np.arange(20)\n",
        "matriz = arr.reshape(4, 5) # Transforma o array 1D em uma matriz 3x4\n",
        "print(matriz)"
      ],
      "metadata": {
        "colab": {
          "base_uri": "https://localhost:8080/"
        },
        "id": "uITlkC17nByi",
        "outputId": "55e429ce-9575-469d-b1fc-a9aef77c3b8d"
      },
      "execution_count": 32,
      "outputs": [
        {
          "output_type": "stream",
          "name": "stdout",
          "text": [
            "[[ 0  1  2  3  4]\n",
            " [ 5  6  7  8  9]\n",
            " [10 11 12 13 14]\n",
            " [15 16 17 18 19]]\n"
          ]
        }
      ]
    },
    {
      "cell_type": "code",
      "source": [
        "# Multiplica¸c~ao de matrizes\n",
        "A = np.array([[1, 2], [3, 4]])\n",
        "B = np.array([[5, 6], [7, 8]])\n",
        "produto = np.dot(A, B)\n",
        "print(produto)\n",
        "# Invers~ao de matriz\n",
        "inversa = np.linalg.inv(A)\n",
        "print(inversa)"
      ],
      "metadata": {
        "colab": {
          "base_uri": "https://localhost:8080/"
        },
        "id": "l3NOIbo4n66_",
        "outputId": "435ef82c-7202-46cc-c607-2e424ae156bb"
      },
      "execution_count": 33,
      "outputs": [
        {
          "output_type": "stream",
          "name": "stdout",
          "text": [
            "[[19 22]\n",
            " [43 50]]\n",
            "[[-2.   1. ]\n",
            " [ 1.5 -0.5]]\n"
          ]
        }
      ]
    },
    {
      "cell_type": "code",
      "source": [
        "arr = np.array([[1, 2, 3], [4, 5, 6]])\n",
        "arr2 = np.array([1, 0, 1])\n",
        "print(arr + arr2) # Broadcasting entre um array 2D e 1D"
      ],
      "metadata": {
        "colab": {
          "base_uri": "https://localhost:8080/"
        },
        "id": "rDNp58ThoOsm",
        "outputId": "036c94a0-7103-43da-c209-b56be1489bc4"
      },
      "execution_count": 34,
      "outputs": [
        {
          "output_type": "stream",
          "name": "stdout",
          "text": [
            "[[2 2 4]\n",
            " [5 5 7]]\n"
          ]
        }
      ]
    },
    {
      "cell_type": "code",
      "source": [
        "# prompt: Gere 15 n´umeros aleat´orios entre 0 e 1. Encontre a soma, m´edia, e o\n",
        "# desvio padr˜ao desses n´umeros\n",
        "\n",
        "import numpy as np\n",
        "\n",
        "# Gere 15 números aleatórios entre 0 e 1\n",
        "numeros_aleatorios =  np.random.randint(15)\n",
        "\n",
        "# Calcule a soma\n",
        "soma = np.sum(numeros_aleatorios)\n",
        "\n",
        "# Calcule a média\n",
        "media = np.mean(numeros_aleatorios)\n",
        "\n",
        "# Calcule o desvio padrão\n",
        "desvio_padrao = np.std(numeros_aleatorios)\n",
        "\n",
        "# Imprima os resultados\n",
        "print(\"Números aleatórios:\", numeros_aleatorios)\n",
        "print(\"Soma:\", soma)\n",
        "print(\"Média:\", media)\n",
        "print(\"Desvio padrão:\", desvio_padrao)\n"
      ],
      "metadata": {
        "colab": {
          "base_uri": "https://localhost:8080/"
        },
        "id": "Mket5EWCopCw",
        "outputId": "417c0975-ce88-4848-ed72-d960cd013210"
      },
      "execution_count": 52,
      "outputs": [
        {
          "output_type": "stream",
          "name": "stdout",
          "text": [
            "Números aleatórios: 1\n",
            "Soma: 1\n",
            "Média: 1.0\n",
            "Desvio padrão: 0.0\n"
          ]
        }
      ]
    },
    {
      "cell_type": "code",
      "source": [
        "# np.zeros() e np.ones()\n",
        "zeros = np.zeros((3, 3)) # Matriz 3x3 de zeros\n",
        "ones = np.ones((2, 4)) # Matriz 2x4 de uns\n",
        "# np.linspace() e np.arange()\n",
        "linspace_arr = np.linspace(0, 10, 5) # 5 n´umeros entre 0 e 10\n",
        "arange_arr = np.arange(0, 10, 2) # Sequ^encia de n´umeros de 0 a 10 com passo\n",
        "# np.random.rand() e np.random.randint()\n",
        "random_arr = np.random.rand(3, 3) # Matriz 3x3 com n´umeros aleat´ori\n",
        "print (random_arr)\n",
        "random_int_arr = np.random.randint(1, 10, size=(3, 3)) # Matriz 3x3 de inteiros"
      ],
      "metadata": {
        "colab": {
          "base_uri": "https://localhost:8080/"
        },
        "id": "uFGUGpWWo4aq",
        "outputId": "217f1f8e-9fb3-44aa-c7b6-7418503d1557"
      },
      "execution_count": 44,
      "outputs": [
        {
          "output_type": "stream",
          "name": "stdout",
          "text": [
            "[[0.0375345  0.62316315 0.38301262]\n",
            " [0.09026552 0.44904022 0.79325352]\n",
            " [0.79678855 0.27539351 0.4267036 ]]\n"
          ]
        }
      ]
    }
  ]
}